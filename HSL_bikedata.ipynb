{
 "cells": [
  {
   "cell_type": "markdown",
   "metadata": {},
   "source": [
    "### Ultrahack 2016 MyData - HSL:n kaupunkipyörät\n",
    "    - HSL:n kaupunkipyörien kysynnän ennustaminen asema- ja tuntikohtaisesti\n",
    "    - Perustuen:\n",
    "        - Kaupunkipyöräpisteiden kapasiteettilokiin\n",
    "        - Helsingin avoimeen säädataan"
   ]
  },
  {
   "cell_type": "code",
   "execution_count": 1,
   "metadata": {
    "collapsed": false
   },
   "outputs": [
    {
     "name": "stderr",
     "output_type": "stream",
     "text": [
      "\n",
      "Attaching package: ‘dplyr’\n",
      "\n",
      "The following objects are masked from ‘package:stats’:\n",
      "\n",
      "    filter, lag\n",
      "\n",
      "The following objects are masked from ‘package:base’:\n",
      "\n",
      "    intersect, setdiff, setequal, union\n",
      "\n",
      "Loading required package: sp\n",
      "Loading required package: lattice\n"
     ]
    }
   ],
   "source": [
    "library(dplyr)\n",
    "library(ggplot2)\n",
    "library(geosphere)\n",
    "library(caret)\n",
    "library(ranger)\n",
    "library(e1071)"
   ]
  },
  {
   "cell_type": "code",
   "execution_count": 2,
   "metadata": {
    "collapsed": false,
    "scrolled": false
   },
   "outputs": [
    {
     "data": {
      "text/html": [
       "<table>\n",
       "<thead><tr><th></th><th scope=col>timestamp</th><th scope=col>name</th><th scope=col>operative</th><th scope=col>style</th><th scope=col>lat</th><th scope=col>lon</th><th scope=col>total_slots</th><th scope=col>free_slots</th><th scope=col>avl_bikes</th></tr></thead>\n",
       "<tbody>\n",
       "\t<tr><th scope=row>1</th><td>20160426T141326Z  </td><td>A21 Varsapuistikko</td><td>True              </td><td>                  </td><td>60.173099         </td><td>24.949636         </td><td>28                </td><td>28                </td><td>0                 </td></tr>\n",
       "\t<tr><th scope=row>2</th><td>20160426T141326Z   </td><td>B03 Haapaniemenkatu</td><td>True               </td><td>                   </td><td>60.181907          </td><td>24.95688           </td><td>18                 </td><td>18                 </td><td>0                  </td></tr>\n",
       "\t<tr><th scope=row>3</th><td>20160426T141326Z         </td><td>B08 Sörnäisten metroasema</td><td>True                     </td><td>                         </td><td>60.187704                </td><td>24.960505                </td><td>24                       </td><td>24                       </td><td>0                        </td></tr>\n",
       "</tbody>\n",
       "</table>\n"
      ],
      "text/latex": [
       "\\begin{tabular}{r|lllllllll}\n",
       "  & timestamp & name & operative & style & lat & lon & total\\_slots & free\\_slots & avl\\_bikes\\\\\n",
       "\\hline\n",
       "\t1 & 20160426T141326Z   & A21 Varsapuistikko & True               &                    & 60.173099          & 24.949636          & 28                 & 28                 & 0                 \\\\\n",
       "\t2 & 20160426T141326Z    & B03 Haapaniemenkatu & True                &                     & 60.181907           & 24.95688            & 18                  & 18                  & 0                  \\\\\n",
       "\t3 & 20160426T141326Z          & B08 Sörnäisten metroasema & True                      &                           & 60.187704                 & 24.960505                 & 24                        & 24                        & 0                        \\\\\n",
       "\\end{tabular}\n"
      ],
      "text/plain": [
       "         timestamp                      name operative style      lat      lon\n",
       "1 20160426T141326Z        A21 Varsapuistikko      True       60.17310 24.94964\n",
       "2 20160426T141326Z       B03 Haapaniemenkatu      True       60.18191 24.95688\n",
       "3 20160426T141326Z B08 Sörnäisten metroasema      True       60.18770 24.96051\n",
       "  total_slots free_slots avl_bikes\n",
       "1          28         28         0\n",
       "2          18         18         0\n",
       "3          24         24         0"
      ]
     },
     "metadata": {},
     "output_type": "display_data"
    },
    {
     "data": {
      "text/html": [
       "<table>\n",
       "<thead><tr><th></th><th scope=col>TimeEEST</th><th scope=col>TemperatureC</th><th scope=col>Dew.PointC</th><th scope=col>Humidity</th><th scope=col>Sea.Level.PressurehPa</th><th scope=col>VisibilityKm</th><th scope=col>Wind.Direction</th><th scope=col>Wind.SpeedKm.h</th><th scope=col>Gust.SpeedKm.h</th><th scope=col>Precipitationmm</th><th scope=col>Events</th><th scope=col>Conditions</th><th scope=col>WindDirDegrees</th><th scope=col>DateUTC</th></tr></thead>\n",
       "<tbody>\n",
       "\t<tr><th scope=row>1</th><td>12:20 AM        </td><td>-1              </td><td>-1              </td><td>100             </td><td>1006            </td><td>-9999           </td><td>WNW             </td><td>3.7             </td><td>-               </td><td>NA              </td><td>                </td><td>Clear           </td><td>300             </td><td>20160331T212000Z</td></tr>\n",
       "\t<tr><th scope=row>2</th><td>12:50 AM        </td><td>1               </td><td>0               </td><td>93              </td><td>1006            </td><td>10              </td><td>West            </td><td>9.3             </td><td>-               </td><td>NA              </td><td>                </td><td>Mostly Cloudy   </td><td>280             </td><td>20160331T215000Z</td></tr>\n",
       "\t<tr><th scope=row>3</th><td>1:20 AM         </td><td>1               </td><td>0               </td><td>93              </td><td>1006            </td><td>-9999           </td><td>WNW             </td><td>9.3             </td><td>-               </td><td>NA              </td><td>                </td><td>Overcast        </td><td>290             </td><td>20160331T222000Z</td></tr>\n",
       "</tbody>\n",
       "</table>\n"
      ],
      "text/latex": [
       "\\begin{tabular}{r|llllllllllllll}\n",
       "  & TimeEEST & TemperatureC & Dew.PointC & Humidity & Sea.Level.PressurehPa & VisibilityKm & Wind.Direction & Wind.SpeedKm.h & Gust.SpeedKm.h & Precipitationmm & Events & Conditions & WindDirDegrees & DateUTC\\\\\n",
       "\\hline\n",
       "\t1 & 12:20 AM         & -1               & -1               & 100              & 1006             & -9999            & WNW              & 3.7              & -                & NA               &                  & Clear            & 300              & 20160331T212000Z\\\\\n",
       "\t2 & 12:50 AM         & 1                & 0                & 93               & 1006             & 10               & West             & 9.3              & -                & NA               &                  & Mostly Cloudy    & 280              & 20160331T215000Z\\\\\n",
       "\t3 & 1:20 AM          & 1                & 0                & 93               & 1006             & -9999            & WNW              & 9.3              & -                & NA               &                  & Overcast         & 290              & 20160331T222000Z\\\\\n",
       "\\end{tabular}\n"
      ],
      "text/plain": [
       "  TimeEEST TemperatureC Dew.PointC Humidity Sea.Level.PressurehPa VisibilityKm\n",
       "1 12:20 AM           -1         -1      100                  1006        -9999\n",
       "2 12:50 AM            1          0       93                  1006           10\n",
       "3  1:20 AM            1          0       93                  1006        -9999\n",
       "  Wind.Direction Wind.SpeedKm.h Gust.SpeedKm.h Precipitationmm Events\n",
       "1            WNW            3.7              -              NA       \n",
       "2           West            9.3              -              NA       \n",
       "3            WNW            9.3              -              NA       \n",
       "     Conditions WindDirDegrees          DateUTC\n",
       "1         Clear            300 20160331T212000Z\n",
       "2 Mostly Cloudy            280 20160331T215000Z\n",
       "3      Overcast            290 20160331T222000Z"
      ]
     },
     "metadata": {},
     "output_type": "display_data"
    }
   ],
   "source": [
    "bikedata <- read.table('/users/ikonhen/omat/ultrahack/hsl_bike_data.csv', \n",
    "                       header = T, sep = '\\t', stringsAsFactors = F)\n",
    "\n",
    "weatherdata <- read.table('/users/ikonhen/omat/ultrahack/weather_data_combined.csv', \n",
    "                          header = T, sep = '\\t', stringsAsFactors = F)\n",
    "head(bikedata, 3)\n",
    "head(weatherdata, 3)"
   ]
  },
  {
   "cell_type": "markdown",
   "metadata": {},
   "source": [
    " **Aggregoidaan datasetit:**\n",
    "     - sekä HSL:n pyörä-, että yleinen Helsingin säädatasetti\n",
    "     - aikamuuttujan konversio\n",
    "     - jatkuvien aggregointi tuntitasolle\n",
    "     - kevyttä piirrelaskentaa"
   ]
  },
  {
   "cell_type": "code",
   "execution_count": 3,
   "metadata": {
    "collapsed": false
   },
   "outputs": [
    {
     "data": {
      "text/html": [
       "<table>\n",
       "<thead><tr><th></th><th scope=col>station</th><th scope=col>month</th><th scope=col>lat</th><th scope=col>lon</th><th scope=col>total_slots</th><th scope=col>dayofmonth</th><th scope=col>hour</th><th scope=col>operative</th><th scope=col>dayofweek</th><th scope=col>avg_availability</th><th scope=col>max_availability</th><th scope=col>hour_capacity_mean</th><th scope=col>hour_capacity_max</th></tr></thead>\n",
       "<tbody>\n",
       "\t<tr><th scope=row>1</th><td>A01      </td><td>4        </td><td>60.155411</td><td>24.950391</td><td>30       </td><td>28       </td><td>5        </td><td>True     </td><td>4        </td><td>0        </td><td>0        </td><td>0        </td><td>0        </td></tr>\n",
       "\t<tr><th scope=row>2</th><td>A01      </td><td>4        </td><td>60.155411</td><td>24.950391</td><td>30       </td><td>28       </td><td>8        </td><td>True     </td><td>4        </td><td>0        </td><td>0        </td><td>0        </td><td>0        </td></tr>\n",
       "\t<tr><th scope=row>3</th><td>A01      </td><td>4        </td><td>60.155411</td><td>24.950391</td><td>30       </td><td>28       </td><td>9        </td><td>True     </td><td>4        </td><td>0        </td><td>0        </td><td>0        </td><td>0        </td></tr>\n",
       "</tbody>\n",
       "</table>\n"
      ],
      "text/latex": [
       "\\begin{tabular}{r|lllllllllllll}\n",
       "  & station & month & lat & lon & total\\_slots & dayofmonth & hour & operative & dayofweek & avg\\_availability & max\\_availability & hour\\_capacity\\_mean & hour\\_capacity\\_max\\\\\n",
       "\\hline\n",
       "\t1 & A01       & 4         & 60.155411 & 24.950391 & 30        & 28        & 5         & True      & 4         & 0         & 0         & 0         & 0        \\\\\n",
       "\t2 & A01       & 4         & 60.155411 & 24.950391 & 30        & 28        & 8         & True      & 4         & 0         & 0         & 0         & 0        \\\\\n",
       "\t3 & A01       & 4         & 60.155411 & 24.950391 & 30        & 28        & 9         & True      & 4         & 0         & 0         & 0         & 0        \\\\\n",
       "\\end{tabular}\n"
      ],
      "text/plain": [
       "  station month      lat      lon total_slots dayofmonth hour operative\n",
       "1     A01     4 60.15541 24.95039          30         28    5      True\n",
       "2     A01     4 60.15541 24.95039          30         28    8      True\n",
       "3     A01     4 60.15541 24.95039          30         28    9      True\n",
       "  dayofweek avg_availability max_availability hour_capacity_mean\n",
       "1         4                0                0                  0\n",
       "2         4                0                0                  0\n",
       "3         4                0                0                  0\n",
       "  hour_capacity_max\n",
       "1                 0\n",
       "2                 0\n",
       "3                 0"
      ]
     },
     "metadata": {},
     "output_type": "display_data"
    }
   ],
   "source": [
    "bikedata %>%\n",
    "\n",
    "    tbl_df %>%\n",
    "    mutate(station = substr(name, 1 ,3),\n",
    "           month = as.numeric(substr(timestamp, 5, 6)),\n",
    "           dayofmonth = as.numeric(substr(timestamp, 7, 8)),\n",
    "           dayofweek = as.POSIXlt(as.Date(substr(timestamp, 1, 8), format = '%Y%m%d'))$wday,\n",
    "           hour = as.numeric(substr(timestamp, 10, 11)),\n",
    "           minute = as.numeric(substr(timestamp, 12, 13))) %>%\n",
    "    select(-name, -timestamp, -style, -minute) %>%\n",
    "    group_by(station, month, lat, lon, total_slots, dayofmonth, hour, operative, dayofweek) %>%\n",
    "    summarise(avg_availability = round(mean(avl_bikes)),\n",
    "              max_availability = max(avl_bikes)) %>%\n",
    "    mutate(hour_capacity_mean = round(avg_availability / total_slots)*100,\n",
    "           hour_capacity_max = round(max_availability / total_slots)*100) -> bikedata\n",
    "\n",
    "invisible(gc())\n",
    "head(bikedata, 3)"
   ]
  },
  {
   "cell_type": "code",
   "execution_count": 4,
   "metadata": {
    "collapsed": false
   },
   "outputs": [
    {
     "name": "stderr",
     "output_type": "stream",
     "text": [
      "Warning message:\n",
      "In eval(substitute(expr), envir, enclos): NAs introduced by coercion"
     ]
    },
    {
     "data": {
      "text/html": [
       "<table>\n",
       "<thead><tr><th></th><th scope=col>month</th><th scope=col>dayofmonth</th><th scope=col>dayofweek</th><th scope=col>hour</th><th scope=col>avg_temp</th><th scope=col>avg_humidity</th><th scope=col>avg_windspeed</th><th scope=col>hour_condition</th></tr></thead>\n",
       "<tbody>\n",
       "\t<tr><th scope=row>1</th><td> 3.0</td><td>31.0</td><td> 4.0</td><td>21.0</td><td> 0.0</td><td>96.5</td><td> 6.5</td><td> 1.0</td></tr>\n",
       "\t<tr><th scope=row>2</th><td> 3.0</td><td>31.0</td><td> 4.0</td><td>22.0</td><td> 1.0</td><td>93.0</td><td>10.2</td><td>15.0</td></tr>\n",
       "\t<tr><th scope=row>3</th><td> 3.00</td><td>31.00</td><td> 4.00</td><td>23.00</td><td> 1.00</td><td>93.00</td><td>12.05</td><td>15.00</td></tr>\n",
       "</tbody>\n",
       "</table>\n"
      ],
      "text/latex": [
       "\\begin{tabular}{r|llllllll}\n",
       "  & month & dayofmonth & dayofweek & hour & avg\\_temp & avg\\_humidity & avg\\_windspeed & hour\\_condition\\\\\n",
       "\\hline\n",
       "\t1 &  3.0 & 31.0 &  4.0 & 21.0 &  0.0 & 96.5 &  6.5 &  1.0\\\\\n",
       "\t2 &  3.0 & 31.0 &  4.0 & 22.0 &  1.0 & 93.0 & 10.2 & 15.0\\\\\n",
       "\t3 &  3.00 & 31.00 &  4.00 & 23.00 &  1.00 & 93.00 & 12.05 & 15.00\\\\\n",
       "\\end{tabular}\n"
      ],
      "text/plain": [
       "  month dayofmonth dayofweek hour avg_temp avg_humidity avg_windspeed\n",
       "1     3         31         4   21        0         96.5          6.50\n",
       "2     3         31         4   22        1         93.0         10.20\n",
       "3     3         31         4   23        1         93.0         12.05\n",
       "  hour_condition\n",
       "1              1\n",
       "2             15\n",
       "3             15"
      ]
     },
     "metadata": {},
     "output_type": "display_data"
    }
   ],
   "source": [
    "getmode <- function(v) {\n",
    "   uniqv <- unique(v)\n",
    "   return(uniqv[which.max(tabulate(match(v, uniqv)))])\n",
    "}\n",
    "\n",
    "weatherdata[, c('DateUTC', 'TemperatureC', 'Humidity', 'Wind.SpeedKm.h', 'Conditions')] %>%\n",
    "\n",
    "    tbl_df %>%\n",
    "    mutate(month = as.numeric(substr(DateUTC, 5, 6)),\n",
    "           dayofmonth = as.numeric(substr(DateUTC, 7, 8)),\n",
    "           dayofweek = as.POSIXlt(as.Date(substr(DateUTC, 1, 8), format = '%Y%m%d'))$wday,\n",
    "           hour = as.numeric(substr(DateUTC, 10, 11)),\n",
    "           minute = as.numeric(substr(DateUTC, 12, 13)),\n",
    "           cond_code = as.numeric(as.factor(Conditions)),\n",
    "           windspeed = as.numeric(Wind.SpeedKm.h)) %>%\n",
    "    select(-DateUTC, -minute, -Conditions, -Wind.SpeedKm.h) %>%\n",
    "    group_by(month, dayofmonth, dayofweek, hour) %>%\n",
    "    summarise(avg_temp = mean(TemperatureC), \n",
    "              avg_humidity = mean(Humidity),\n",
    "              avg_windspeed = mean(windspeed),\n",
    "              hour_condition = getmode(cond_code)) -> weatherdata\n",
    "\n",
    "head(weatherdata, 3)"
   ]
  },
  {
   "cell_type": "markdown",
   "metadata": {},
   "source": [
    "**Piirrelaskenta jatkuu:**\n",
    "    - Asemien koordinaatit\n",
    "    - Etäisyys lähimpään naapuriasemaan\n",
    "    - Lähimmät kolme naapuriasemaa (asemakoodit)"
   ]
  },
  {
   "cell_type": "code",
   "execution_count": 5,
   "metadata": {
    "collapsed": false,
    "scrolled": true
   },
   "outputs": [
    {
     "data": {
      "text/html": [
       "<table>\n",
       "<thead><tr><th></th><th scope=col>station</th><th scope=col>min_neighbor_dist</th><th scope=col>neighbor_1</th><th scope=col>neighbor_2</th><th scope=col>neighbor_3</th><th scope=col>latitude</th><th scope=col>longitude</th></tr></thead>\n",
       "<tbody>\n",
       "\t<tr><th scope=row>1</th><td>A01      </td><td>0        </td><td>empty    </td><td>empty    </td><td>empty    </td><td>60.155411</td><td>24.950391</td></tr>\n",
       "\t<tr><th scope=row>2</th><td>A02      </td><td>0        </td><td>empty    </td><td>empty    </td><td>empty    </td><td>60.159715</td><td>24.955212</td></tr>\n",
       "\t<tr><th scope=row>3</th><td>A03      </td><td>0        </td><td>empty    </td><td>empty    </td><td>empty    </td><td>60.158172</td><td>24.944808</td></tr>\n",
       "</tbody>\n",
       "</table>\n"
      ],
      "text/latex": [
       "\\begin{tabular}{r|lllllll}\n",
       "  & station & min\\_neighbor\\_dist & neighbor\\_1 & neighbor\\_2 & neighbor\\_3 & latitude & longitude\\\\\n",
       "\\hline\n",
       "\t1 & A01       & 0         & empty     & empty     & empty     & 60.155411 & 24.950391\\\\\n",
       "\t2 & A02       & 0         & empty     & empty     & empty     & 60.159715 & 24.955212\\\\\n",
       "\t3 & A03       & 0         & empty     & empty     & empty     & 60.158172 & 24.944808\\\\\n",
       "\\end{tabular}\n"
      ],
      "text/plain": [
       "  station min_neighbor_dist neighbor_1 neighbor_2 neighbor_3 latitude longitude\n",
       "1     A01                 0      empty      empty      empty 60.15541  24.95039\n",
       "2     A02                 0      empty      empty      empty 60.15971  24.95521\n",
       "3     A03                 0      empty      empty      empty 60.15817  24.94481"
      ]
     },
     "metadata": {},
     "output_type": "display_data"
    }
   ],
   "source": [
    "station_info <- data.frame(station = unique(bikedata$station),\n",
    "                           min_neighbor_dist = 0,\n",
    "                           neighbor_1 = 'empty',\n",
    "                           neighbor_2 = 'empty',\n",
    "                           neighbor_3 = 'empty',\n",
    "                           latitude = 0, \n",
    "                           longitude = 0)\n",
    "\n",
    "factors <- sapply(station_info, is.factor)\n",
    "station_info[factors] <- lapply(station_info[factors], as.character)                 \n",
    "\n",
    "for (station in station_info$station) {\n",
    "    stnumber <- grep(station, station_info$station)\n",
    "    station_info[stnumber, c('latitude')] <- max(bikedata$lat[bikedata$station == station])\n",
    "    station_info[stnumber, c('longitude')] <- max(bikedata$lon[bikedata$station == station])\n",
    "}\n",
    "\n",
    "head(station_info, 3)"
   ]
  },
  {
   "cell_type": "code",
   "execution_count": 6,
   "metadata": {
    "collapsed": false
   },
   "outputs": [
    {
     "data": {
      "text/html": [
       "<table>\n",
       "<thead><tr><th></th><th scope=col>station</th><th scope=col>min_neighbor_dist</th><th scope=col>neighbor_1</th><th scope=col>neighbor_2</th><th scope=col>neighbor_3</th><th scope=col>latitude</th><th scope=col>longitude</th></tr></thead>\n",
       "<tbody>\n",
       "\t<tr><th scope=row>1</th><td>A01             </td><td>681.115288302423</td><td>A03             </td><td>A02             </td><td>A07             </td><td>60.155411       </td><td>24.950391       </td></tr>\n",
       "\t<tr><th scope=row>2</th><td>A02             </td><td>690.446191559871</td><td>A01             </td><td>A13             </td><td>A11             </td><td>60.159715       </td><td>24.955212       </td></tr>\n",
       "\t<tr><th scope=row>3</th><td>A03             </td><td>396.897591474481</td><td>A04             </td><td>A06             </td><td>A07             </td><td>60.158172       </td><td>24.944808       </td></tr>\n",
       "</tbody>\n",
       "</table>\n"
      ],
      "text/latex": [
       "\\begin{tabular}{r|lllllll}\n",
       "  & station & min\\_neighbor\\_dist & neighbor\\_1 & neighbor\\_2 & neighbor\\_3 & latitude & longitude\\\\\n",
       "\\hline\n",
       "\t1 & A01              & 681.115288302423 & A03              & A02              & A07              & 60.155411        & 24.950391       \\\\\n",
       "\t2 & A02              & 690.446191559871 & A01              & A13              & A11              & 60.159715        & 24.955212       \\\\\n",
       "\t3 & A03              & 396.897591474481 & A04              & A06              & A07              & 60.158172        & 24.944808       \\\\\n",
       "\\end{tabular}\n"
      ],
      "text/plain": [
       "  station min_neighbor_dist neighbor_1 neighbor_2 neighbor_3 latitude longitude\n",
       "1     A01          681.1153        A03        A02        A07 60.15541  24.95039\n",
       "2     A02          690.4462        A01        A13        A11 60.15971  24.95521\n",
       "3     A03          396.8976        A04        A06        A07 60.15817  24.94481"
      ]
     },
     "metadata": {},
     "output_type": "display_data"
    }
   ],
   "source": [
    "for (station in station_info$station) {\n",
    "    stnumber <- grep(station, station_info$station)\n",
    "    other_stations <- station_info$station[-stnumber]\n",
    "    distance <- c()\n",
    "    results <- data.frame()\n",
    "    i <- 1\n",
    "    for (comparison in other_stations) {\n",
    "        tryCatch({\n",
    "            cmnumber <- grep(comparison, station_info$station)\n",
    "            station_point <- station_info[stnumber, c('latitude', 'longitude')]\n",
    "            comparison_point <- station_info[cmnumber, c('latitude', 'longitude')]\n",
    "            distance[i] <- distHaversine(station_point, comparison_point)\n",
    "            i <- i + 1\n",
    "            }, error = function(e) { cat(paste(\"ERROR :\", conditionMessage(e), station, comparison), \"\\n\") })\n",
    "    }\n",
    "    results <- data.frame(station_1 = station, station_2 = other_stations, distance = distance)\n",
    "    results <- results[order(distance), ]\n",
    "    station_info[stnumber, c('min_neighbor_dist')] <- results[1, 3]\n",
    "    station_info[stnumber, c('neighbor_1')] <- as.character(results[1, 2])\n",
    "    station_info[stnumber, c('neighbor_2')] <- as.character(results[2, 2])\n",
    "    station_info[stnumber, c('neighbor_3')] <- as.character(results[3, 2])\n",
    "}\n",
    "\n",
    "head(station_info, 3)"
   ]
  },
  {
   "cell_type": "markdown",
   "metadata": {
    "collapsed": true
   },
   "source": [
    "**Aineistojen yhdistely**\n",
    "    - huhtikuun datat filtteröidään pois\n",
    "    - tyhjien ja negatiivisten arvojen konversio nolliksi\n",
    "    - char- muuttujien koodaus int- muotoon"
   ]
  },
  {
   "cell_type": "code",
   "execution_count": 8,
   "metadata": {
    "collapsed": false
   },
   "outputs": [
    {
     "data": {
      "text/html": [
       "<table>\n",
       "<thead><tr><th></th><th scope=col>station</th><th scope=col>month</th><th scope=col>lat</th><th scope=col>lon</th><th scope=col>total_slots</th><th scope=col>dayofmonth</th><th scope=col>hour</th><th scope=col>operative</th><th scope=col>dayofweek.x</th><th scope=col>max_availability</th><th scope=col>min_neighbor_dist</th><th scope=col>neighbor_1</th><th scope=col>neighbor_2</th><th scope=col>neighbor_3</th><th scope=col>avg_temp</th><th scope=col>avg_humidity</th><th scope=col>avg_windspeed</th><th scope=col>hour_condition</th></tr></thead>\n",
       "<tbody>\n",
       "\t<tr><th scope=row>1</th><td>  1.00000</td><td>  5.00000</td><td> 60.15541</td><td> 24.95039</td><td> 30.00000</td><td>  1.00000</td><td>  8.00000</td><td>  1.00000</td><td>  0.00000</td><td>  0.00000</td><td>681.11529</td><td>  2.00000</td><td>  1.00000</td><td>  4.00000</td><td> 14.00000</td><td> 55.00000</td><td> 11.10000</td><td>  1.00000</td></tr>\n",
       "\t<tr><th scope=row>2</th><td>  1.00000</td><td>  5.00000</td><td> 60.15541</td><td> 24.95039</td><td> 30.00000</td><td>  2.00000</td><td>  6.00000</td><td>  1.00000</td><td>  1.00000</td><td>  0.00000</td><td>681.11529</td><td>  2.00000</td><td>  1.00000</td><td>  4.00000</td><td> 12.50000</td><td> 44.00000</td><td>  4.65000</td><td>  1.00000</td></tr>\n",
       "\t<tr><th scope=row>3</th><td>  1.00000</td><td>  5.00000</td><td> 60.15541</td><td> 24.95039</td><td> 30.00000</td><td>  2.00000</td><td>  7.00000</td><td>  1.00000</td><td>  1.00000</td><td>  0.00000</td><td>681.11529</td><td>  2.00000</td><td>  1.00000</td><td>  4.00000</td><td> 14.00000</td><td> 35.50000</td><td>  8.35000</td><td>  1.00000</td></tr>\n",
       "</tbody>\n",
       "</table>\n"
      ],
      "text/latex": [
       "\\begin{tabular}{r|llllllllllllllllll}\n",
       "  & station & month & lat & lon & total\\_slots & dayofmonth & hour & operative & dayofweek.x & max\\_availability & min\\_neighbor\\_dist & neighbor\\_1 & neighbor\\_2 & neighbor\\_3 & avg\\_temp & avg\\_humidity & avg\\_windspeed & hour\\_condition\\\\\n",
       "\\hline\n",
       "\t1 &   1.00000 &   5.00000 &  60.15541 &  24.95039 &  30.00000 &   1.00000 &   8.00000 &   1.00000 &   0.00000 &   0.00000 & 681.11529 &   2.00000 &   1.00000 &   4.00000 &  14.00000 &  55.00000 &  11.10000 &   1.00000\\\\\n",
       "\t2 &   1.00000 &   5.00000 &  60.15541 &  24.95039 &  30.00000 &   2.00000 &   6.00000 &   1.00000 &   1.00000 &   0.00000 & 681.11529 &   2.00000 &   1.00000 &   4.00000 &  12.50000 &  44.00000 &   4.65000 &   1.00000\\\\\n",
       "\t3 &   1.00000 &   5.00000 &  60.15541 &  24.95039 &  30.00000 &   2.00000 &   7.00000 &   1.00000 &   1.00000 &   0.00000 & 681.11529 &   2.00000 &   1.00000 &   4.00000 &  14.00000 &  35.50000 &   8.35000 &   1.00000\\\\\n",
       "\\end{tabular}\n"
      ],
      "text/plain": [
       "  station month      lat      lon total_slots dayofmonth hour operative\n",
       "1       1     5 60.15541 24.95039          30          1    8         1\n",
       "2       1     5 60.15541 24.95039          30          2    6         1\n",
       "3       1     5 60.15541 24.95039          30          2    7         1\n",
       "  dayofweek.x max_availability min_neighbor_dist neighbor_1 neighbor_2\n",
       "1           0                0          681.1153          2          1\n",
       "2           1                0          681.1153          2          1\n",
       "3           1                0          681.1153          2          1\n",
       "  neighbor_3 avg_temp avg_humidity avg_windspeed hour_condition\n",
       "1          4     14.0         55.0         11.10              1\n",
       "2          4     12.5         44.0          4.65              1\n",
       "3          4     14.0         35.5          8.35              1"
      ]
     },
     "metadata": {},
     "output_type": "display_data"
    }
   ],
   "source": [
    "include <- c('station', 'min_neighbor_dist', 'neighbor_1', 'neighbor_2', 'neighbor_3')\n",
    "\n",
    "bikedata %>%\n",
    "\n",
    "    left_join(station_info[, include], by = 'station', all.x = T) %>%\n",
    "    left_join(weatherdata, by = c('month', 'dayofmonth', 'hour'), all.x = T) %>%\n",
    "    select(-dayofweek.y, -avg_availability, -hour_capacity_max, -hour_capacity_mean) %>%\n",
    "    filter(month > 4) -> training_data\n",
    "\n",
    "training_data[is.na(training_data)] <- 0\n",
    "training_data[training_data < 0] <- 0\n",
    "\n",
    "for (feature in colnames(training_data)) {\n",
    "    if (class(training_data[[feature]]) == 'character') {\n",
    "        training_data[[feature]] <- as.numeric(as.factor(training_data[[feature]]))\n",
    "    } \n",
    "}\n",
    "\n",
    "head(training_data, 3)"
   ]
  },
  {
   "cell_type": "code",
   "execution_count": 26,
   "metadata": {
    "collapsed": false
   },
   "outputs": [
    {
     "name": "stdout",
     "output_type": "stream",
     "text": [
      "+ Fold1: mtry= 2 \n",
      "- Fold1: mtry= 2 \n",
      "+ Fold1: mtry= 4 \n",
      "- Fold1: mtry= 4 \n",
      "+ Fold1: mtry= 6 \n",
      "- Fold1: mtry= 6 \n",
      "+ Fold1: mtry= 8 \n",
      "Growing trees.. Progress: 93%. Estimated remaining time: 2 seconds.\n",
      "- Fold1: mtry= 8 \n",
      "+ Fold1: mtry=10 \n",
      "Growing trees.. Progress: 86%. Estimated remaining time: 5 seconds.\n",
      "- Fold1: mtry=10 \n",
      "+ Fold2: mtry= 2 \n",
      "- Fold2: mtry= 2 \n",
      "+ Fold2: mtry= 4 \n",
      "- Fold2: mtry= 4 \n",
      "+ Fold2: mtry= 6 \n",
      "- Fold2: mtry= 6 \n",
      "+ Fold2: mtry= 8 \n",
      "Growing trees.. Progress: 97%. Estimated remaining time: 1 seconds.\n",
      "- Fold2: mtry= 8 \n",
      "+ Fold2: mtry=10 \n",
      "Growing trees.. Progress: 95%. Estimated remaining time: 1 seconds.\n",
      "- Fold2: mtry=10 \n",
      "+ Fold3: mtry= 2 \n",
      "- Fold3: mtry= 2 \n",
      "+ Fold3: mtry= 4 \n",
      "- Fold3: mtry= 4 \n",
      "+ Fold3: mtry= 6 \n",
      "- Fold3: mtry= 6 \n",
      "+ Fold3: mtry= 8 \n",
      "Growing trees.. Progress: 97%. Estimated remaining time: 0 seconds.\n",
      "- Fold3: mtry= 8 \n",
      "+ Fold3: mtry=10 \n",
      "Growing trees.. Progress: 94%. Estimated remaining time: 2 seconds.\n",
      "- Fold3: mtry=10 \n",
      "+ Fold4: mtry= 2 \n",
      "- Fold4: mtry= 2 \n",
      "+ Fold4: mtry= 4 \n",
      "- Fold4: mtry= 4 \n",
      "+ Fold4: mtry= 6 \n",
      "- Fold4: mtry= 6 \n",
      "+ Fold4: mtry= 8 \n",
      "Growing trees.. Progress: 97%. Estimated remaining time: 0 seconds.\n",
      "- Fold4: mtry= 8 \n",
      "+ Fold4: mtry=10 \n",
      "Growing trees.. Progress: 94%. Estimated remaining time: 2 seconds.\n",
      "- Fold4: mtry=10 \n",
      "+ Fold5: mtry= 2 \n",
      "- Fold5: mtry= 2 \n",
      "+ Fold5: mtry= 4 \n",
      "- Fold5: mtry= 4 \n",
      "+ Fold5: mtry= 6 \n",
      "- Fold5: mtry= 6 \n",
      "+ Fold5: mtry= 8 \n",
      "Growing trees.. Progress: 97%. Estimated remaining time: 0 seconds.\n",
      "- Fold5: mtry= 8 \n",
      "+ Fold5: mtry=10 \n",
      "Growing trees.. Progress: 93%. Estimated remaining time: 2 seconds.\n",
      "- Fold5: mtry=10 \n",
      "Aggregating results\n",
      "Selecting tuning parameters\n",
      "Fitting mtry = 10 on full training set\n",
      "Growing trees.. Progress: 75%. Estimated remaining time: 10 seconds.\n"
     ]
    }
   ],
   "source": [
    "holdout <- training_data[110000:nrow(training_data), ]\n",
    "train <- training_data[1:109999, ]\n",
    "\n",
    "rf_control <- trainControl(method = 'cv', number = 5, allowParallel = TRUE, verbose = T)\n",
    "\n",
    "parallel_rf_search <- train(max_availability ~.,\n",
    "                            data = train,\n",
    "                            method = \"ranger\",\n",
    "                            trControl = rf_control,\n",
    "                            tuneGrid = expand.grid(mtry = c(2, 4, 6, 8, 10)),\n",
    "                            num.trees = 200)\n"
   ]
  },
  {
   "cell_type": "code",
   "execution_count": 27,
   "metadata": {
    "collapsed": false
   },
   "outputs": [
    {
     "data": {
      "text/plain": [
       "Random Forest \n",
       "\n",
       "109999 samples\n",
       "    17 predictor\n",
       "\n",
       "No pre-processing\n",
       "Resampling: Cross-Validated (5 fold) \n",
       "Summary of sample sizes: 88001, 88000, 87998, 88000, 87997 \n",
       "Resampling results across tuning parameters:\n",
       "\n",
       "  mtry  RMSE      Rsquared \n",
       "   2    4.333181  0.5225277\n",
       "   4    3.568836  0.6853926\n",
       "   6    3.217143  0.7423241\n",
       "   8    3.125210  0.7552767\n",
       "  10    3.067005  0.7638343\n",
       "\n",
       "RMSE was used to select the optimal model using  the smallest value.\n",
       "The final value used for the model was mtry = 10. "
      ]
     },
     "metadata": {},
     "output_type": "display_data"
    }
   ],
   "source": [
    "parallel_rf_search"
   ]
  }
 ],
 "metadata": {
  "anaconda-cloud": {},
  "celltoolbar": "Raw Cell Format",
  "kernelspec": {
   "display_name": "R",
   "language": "R",
   "name": "ir"
  },
  "language_info": {
   "codemirror_mode": "r",
   "file_extension": ".r",
   "mimetype": "text/x-r-source",
   "name": "R",
   "pygments_lexer": "r",
   "version": "3.3.1"
  }
 },
 "nbformat": 4,
 "nbformat_minor": 0
}
