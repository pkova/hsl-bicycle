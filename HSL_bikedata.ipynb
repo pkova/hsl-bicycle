{
 "cells": [
  {
   "cell_type": "markdown",
   "metadata": {},
   "source": [
    "### Ultrahack 2016 / MyData\n",
    "    HSL: Kaupunkipyörien kysyntä "
   ]
  },
  {
   "cell_type": "code",
   "execution_count": 1,
   "metadata": {
    "collapsed": false
   },
   "outputs": [],
   "source": [
    "suppressMessages(library(dplyr))\n",
    "suppressMessages(library(ggplot2))\n",
    "suppressMessages(library(geosphere))\n",
    "suppressMessages(library(randomForest))\n",
    "suppressMessages(library(parallel))"
   ]
  },
  {
   "cell_type": "code",
   "execution_count": 2,
   "metadata": {
    "collapsed": false,
    "scrolled": true
   },
   "outputs": [
    {
     "name": "stdout",
     "output_type": "stream",
     "text": [
      "'data.frame':\t6167988 obs. of  9 variables:\n",
      " $ timestamp  : chr  \"20160426T141326Z\" \"20160426T141326Z\" \"20160426T141326Z\" \"20160426T172701Z\" ...\n",
      " $ name       : chr  \"A21 Varsapuistikko\" \"B03 Haapaniemenkatu\" \"B08 Sörnäisten metroasema\" \"A21 Varsapuistikko\" ...\n",
      " $ operative  : chr  \"True\" \"True\" \"True\" \"True\" ...\n",
      " $ style      : chr  \"\" \"\" \"\" \"\" ...\n",
      " $ lat        : num  60.2 60.2 60.2 60.2 60.2 ...\n",
      " $ lon        : num  24.9 25 25 24.9 25 ...\n",
      " $ total_slots: int  28 18 24 28 18 24 28 18 24 28 ...\n",
      " $ free_slots : int  28 18 24 28 18 23 28 18 22 28 ...\n",
      " $ avl_bikes  : int  0 0 0 0 0 1 0 0 2 0 ...\n"
     ]
    }
   ],
   "source": [
    "bikedata <- read.table('/users/ikonhen/omat/ultrahack/hsl_bike_data.csv', \n",
    "                       header = T, sep = '\\t', stringsAsFactors = F)\n",
    "str(bikedata)"
   ]
  },
  {
   "cell_type": "markdown",
   "metadata": {},
   "source": [
    "** Aggregoidaan aineisto tuntitasolle **"
   ]
  },
  {
   "cell_type": "code",
   "execution_count": 3,
   "metadata": {
    "collapsed": false
   },
   "outputs": [
    {
     "data": {
      "text/html": [
       "<table>\n",
       "<thead><tr><th></th><th scope=col>station</th><th scope=col>month</th><th scope=col>lat</th><th scope=col>lon</th><th scope=col>total_slots</th><th scope=col>dayofmonth</th><th scope=col>dayofweek</th><th scope=col>hour</th><th scope=col>avg_availability</th><th scope=col>max_availability</th><th scope=col>hour_capacity_mean</th><th scope=col>hour_capacity_max</th></tr></thead>\n",
       "<tbody>\n",
       "\t<tr><th scope=row>1</th><td>A01      </td><td>4        </td><td>60.155411</td><td>24.950391</td><td>30       </td><td>28       </td><td>Torstai  </td><td>5        </td><td>0        </td><td>0        </td><td>0        </td><td>0        </td></tr>\n",
       "\t<tr><th scope=row>2</th><td>A01      </td><td>4        </td><td>60.155411</td><td>24.950391</td><td>30       </td><td>28       </td><td>Torstai  </td><td>8        </td><td>0        </td><td>0        </td><td>0        </td><td>0        </td></tr>\n",
       "\t<tr><th scope=row>3</th><td>A01      </td><td>4        </td><td>60.155411</td><td>24.950391</td><td>30       </td><td>28       </td><td>Torstai  </td><td>9        </td><td>0        </td><td>0        </td><td>0        </td><td>0        </td></tr>\n",
       "</tbody>\n",
       "</table>\n"
      ],
      "text/latex": [
       "\\begin{tabular}{r|llllllllllll}\n",
       "  & station & month & lat & lon & total\\_slots & dayofmonth & dayofweek & hour & avg\\_availability & max\\_availability & hour\\_capacity\\_mean & hour\\_capacity\\_max\\\\\n",
       "\\hline\n",
       "\t1 & A01       & 4         & 60.155411 & 24.950391 & 30        & 28        & Torstai   & 5         & 0         & 0         & 0         & 0        \\\\\n",
       "\t2 & A01       & 4         & 60.155411 & 24.950391 & 30        & 28        & Torstai   & 8         & 0         & 0         & 0         & 0        \\\\\n",
       "\t3 & A01       & 4         & 60.155411 & 24.950391 & 30        & 28        & Torstai   & 9         & 0         & 0         & 0         & 0        \\\\\n",
       "\\end{tabular}\n"
      ],
      "text/plain": [
       "  station month      lat      lon total_slots dayofmonth dayofweek hour\n",
       "1     A01     4 60.15541 24.95039          30         28   Torstai    5\n",
       "2     A01     4 60.15541 24.95039          30         28   Torstai    8\n",
       "3     A01     4 60.15541 24.95039          30         28   Torstai    9\n",
       "  avg_availability max_availability hour_capacity_mean hour_capacity_max\n",
       "1                0                0                  0                 0\n",
       "2                0                0                  0                 0\n",
       "3                0                0                  0                 0"
      ]
     },
     "metadata": {},
     "output_type": "display_data"
    }
   ],
   "source": [
    "bikedata %>%\n",
    "\n",
    "    tbl_df %>%\n",
    "\n",
    "    mutate(station = substr(name, 1 ,3),\n",
    "           month = as.numeric(substr(timestamp, 5, 6)),\n",
    "           dayofmonth = as.numeric(substr(timestamp, 7, 8)),\n",
    "           dayofweek = weekdays(as.Date(substr(timestamp, 1, 8), format = '%Y%m%d')),\n",
    "           hour = as.numeric(substr(timestamp, 10, 11)),\n",
    "           minute = as.numeric(substr(timestamp, 12, 13))) %>%\n",
    "\n",
    "    select(-name, -timestamp, -operative, -style, -minute) %>%\n",
    "\n",
    "    group_by(station, month, lat, lon, total_slots, dayofmonth, dayofweek, hour) %>%\n",
    "\n",
    "    summarise(avg_availability = round(mean(avl_bikes)),\n",
    "              max_availability = max(avl_bikes)) %>%\n",
    "\n",
    "    mutate(hour_capacity_mean = round(avg_availability / total_slots)*100,\n",
    "           hour_capacity_max = round(max_availability / total_slots)*100) -> bikedata\n",
    "\n",
    "invisible(gc())\n",
    "head(bikedata, 3)"
   ]
  },
  {
   "cell_type": "markdown",
   "metadata": {},
   "source": [
    "** Haetaan asemille koordinaattitiedot ja lähimmät naapuriasemat **"
   ]
  },
  {
   "cell_type": "code",
   "execution_count": 4,
   "metadata": {
    "collapsed": false
   },
   "outputs": [
    {
     "data": {
      "text/html": [
       "<table>\n",
       "<thead><tr><th></th><th scope=col>station</th><th scope=col>min_neighbor_dist</th><th scope=col>neighbor_1</th><th scope=col>neighbor_2</th><th scope=col>neighbor_3</th><th scope=col>latitude</th><th scope=col>longitude</th></tr></thead>\n",
       "<tbody>\n",
       "\t<tr><th scope=row>1</th><td>A01      </td><td>0        </td><td>empty    </td><td>empty    </td><td>empty    </td><td>60.155411</td><td>24.950391</td></tr>\n",
       "\t<tr><th scope=row>2</th><td>A02      </td><td>0        </td><td>empty    </td><td>empty    </td><td>empty    </td><td>60.159715</td><td>24.955212</td></tr>\n",
       "\t<tr><th scope=row>3</th><td>A03      </td><td>0        </td><td>empty    </td><td>empty    </td><td>empty    </td><td>60.158172</td><td>24.944808</td></tr>\n",
       "</tbody>\n",
       "</table>\n"
      ],
      "text/latex": [
       "\\begin{tabular}{r|lllllll}\n",
       "  & station & min\\_neighbor\\_dist & neighbor\\_1 & neighbor\\_2 & neighbor\\_3 & latitude & longitude\\\\\n",
       "\\hline\n",
       "\t1 & A01       & 0         & empty     & empty     & empty     & 60.155411 & 24.950391\\\\\n",
       "\t2 & A02       & 0         & empty     & empty     & empty     & 60.159715 & 24.955212\\\\\n",
       "\t3 & A03       & 0         & empty     & empty     & empty     & 60.158172 & 24.944808\\\\\n",
       "\\end{tabular}\n"
      ],
      "text/plain": [
       "  station min_neighbor_dist neighbor_1 neighbor_2 neighbor_3 latitude longitude\n",
       "1     A01                 0      empty      empty      empty 60.15541  24.95039\n",
       "2     A02                 0      empty      empty      empty 60.15971  24.95521\n",
       "3     A03                 0      empty      empty      empty 60.15817  24.94481"
      ]
     },
     "metadata": {},
     "output_type": "display_data"
    }
   ],
   "source": [
    "station_info <- data.frame(station = unique(bikedata$station),\n",
    "                           min_neighbor_dist = 0,\n",
    "                           neighbor_1 = 'empty',\n",
    "                           neighbor_2 = 'empty',\n",
    "                           neighbor_3 = 'empty',\n",
    "                           latitude = 0, \n",
    "                           longitude = 0)\n",
    "\n",
    "factors <- sapply(station_info, is.factor)\n",
    "station_info[factors] <- lapply(station_info[factors], as.character)                 \n",
    "\n",
    "for (station in station_info$station) {\n",
    "    stnumber <- grep(station, station_info$station)\n",
    "    station_info[stnumber, c('latitude')] <- max(bikedata$lat[bikedata$station == station])\n",
    "    station_info[stnumber, c('longitude')] <- max(bikedata$lon[bikedata$station == station])\n",
    "}\n",
    "\n",
    "head(station_info, 3)"
   ]
  },
  {
   "cell_type": "code",
   "execution_count": 5,
   "metadata": {
    "collapsed": false
   },
   "outputs": [
    {
     "data": {
      "text/html": [
       "<table>\n",
       "<thead><tr><th></th><th scope=col>station</th><th scope=col>min_neighbor_dist</th><th scope=col>neighbor_1</th><th scope=col>neighbor_2</th><th scope=col>neighbor_3</th><th scope=col>latitude</th><th scope=col>longitude</th></tr></thead>\n",
       "<tbody>\n",
       "\t<tr><th scope=row>1</th><td>A01             </td><td>681.115288302423</td><td>A03             </td><td>A02             </td><td>A07             </td><td>60.155411       </td><td>24.950391       </td></tr>\n",
       "\t<tr><th scope=row>2</th><td>A02             </td><td>690.446191559871</td><td>A01             </td><td>A13             </td><td>A11             </td><td>60.159715       </td><td>24.955212       </td></tr>\n",
       "\t<tr><th scope=row>3</th><td>A03             </td><td>396.897591474481</td><td>A04             </td><td>A06             </td><td>A07             </td><td>60.158172       </td><td>24.944808       </td></tr>\n",
       "</tbody>\n",
       "</table>\n"
      ],
      "text/latex": [
       "\\begin{tabular}{r|lllllll}\n",
       "  & station & min\\_neighbor\\_dist & neighbor\\_1 & neighbor\\_2 & neighbor\\_3 & latitude & longitude\\\\\n",
       "\\hline\n",
       "\t1 & A01              & 681.115288302423 & A03              & A02              & A07              & 60.155411        & 24.950391       \\\\\n",
       "\t2 & A02              & 690.446191559871 & A01              & A13              & A11              & 60.159715        & 24.955212       \\\\\n",
       "\t3 & A03              & 396.897591474481 & A04              & A06              & A07              & 60.158172        & 24.944808       \\\\\n",
       "\\end{tabular}\n"
      ],
      "text/plain": [
       "  station min_neighbor_dist neighbor_1 neighbor_2 neighbor_3 latitude longitude\n",
       "1     A01          681.1153        A03        A02        A07 60.15541  24.95039\n",
       "2     A02          690.4462        A01        A13        A11 60.15971  24.95521\n",
       "3     A03          396.8976        A04        A06        A07 60.15817  24.94481"
      ]
     },
     "metadata": {},
     "output_type": "display_data"
    }
   ],
   "source": [
    "for (station in station_info$station) {\n",
    "    stnumber <- grep(station, station_info$station)\n",
    "    other_stations <- station_info$station[-stnumber]\n",
    "    distance <- c()\n",
    "    results <- data.frame()\n",
    "    i <- 1\n",
    "    for (comparison in other_stations) {\n",
    "        tryCatch({\n",
    "            cmnumber <- grep(comparison, station_info$station)\n",
    "            station_point <- station_info[stnumber, c('latitude', 'longitude')]\n",
    "            comparison_point <- station_info[cmnumber, c('latitude', 'longitude')]\n",
    "            distance[i] <- distHaversine(station_point, comparison_point)\n",
    "            i <- i + 1\n",
    "            }, error = function(e) { cat(paste(\"ERROR :\", conditionMessage(e), station, comparison), \"\\n\") })\n",
    "    }\n",
    "    results <- data.frame(station_1 = station, station_2 = other_stations, distance = distance)\n",
    "    results <- results[order(distance), ]\n",
    "    station_info[stnumber, c('min_neighbor_dist')] <- results[1, 3]\n",
    "    station_info[stnumber, c('neighbor_1')] <- as.character(results[1, 2])\n",
    "    station_info[stnumber, c('neighbor_2')] <- as.character(results[2, 2])\n",
    "    station_info[stnumber, c('neighbor_3')] <- as.character(results[3, 2])\n",
    "}\n",
    "\n",
    "head(station_info, 3)"
   ]
  },
  {
   "cell_type": "code",
   "execution_count": null,
   "metadata": {
    "collapsed": true
   },
   "outputs": [],
   "source": []
  },
  {
   "cell_type": "markdown",
   "metadata": {
    "collapsed": true
   },
   "source": [
    "** Mallinnusaineisto kasaan **"
   ]
  },
  {
   "cell_type": "code",
   "execution_count": 8,
   "metadata": {
    "collapsed": false
   },
   "outputs": [
    {
     "name": "stdout",
     "output_type": "stream",
     "text": [
      "Classes ‘grouped_df’, ‘tbl_df’, ‘tbl’ and 'data.frame':\t134445 obs. of  16 variables:\n",
      " $ station           : chr  \"A01\" \"A01\" \"A01\" \"A01\" ...\n",
      " $ month             : num  4 4 4 4 4 4 4 4 4 4 ...\n",
      " $ lat               : num  60.2 60.2 60.2 60.2 60.2 ...\n",
      " $ lon               : num  25 25 25 25 25 ...\n",
      " $ total_slots       : int  30 30 30 30 30 30 30 30 30 30 ...\n",
      " $ dayofmonth        : num  28 28 28 28 28 28 29 29 29 29 ...\n",
      " $ dayofweek         : chr  \"Torstai\" \"Torstai\" \"Torstai\" \"Torstai\" ...\n",
      " $ hour              : num  5 8 9 10 11 13 5 11 12 13 ...\n",
      " $ avg_availability  : num  0 0 0 0 0 0 0 0 0 0 ...\n",
      " $ max_availability  : int  0 0 0 0 0 0 0 0 0 0 ...\n",
      " $ hour_capacity_mean: num  0 0 0 0 0 0 0 0 0 0 ...\n",
      " $ hour_capacity_max : num  0 0 0 0 0 0 0 0 0 0 ...\n",
      " $ min_neighbor_dist : num  681 681 681 681 681 ...\n",
      " $ neighbor_1        : chr  \"A03\" \"A03\" \"A03\" \"A03\" ...\n",
      " $ neighbor_2        : chr  \"A02\" \"A02\" \"A02\" \"A02\" ...\n",
      " $ neighbor_3        : chr  \"A07\" \"A07\" \"A07\" \"A07\" ...\n",
      " - attr(*, \"vars\")=List of 7\n",
      "  ..$ : symbol station\n",
      "  ..$ : symbol month\n",
      "  ..$ : symbol lat\n",
      "  ..$ : symbol lon\n",
      "  ..$ : symbol total_slots\n",
      "  ..$ : symbol dayofmonth\n",
      "  ..$ : symbol dayofweek\n"
     ]
    }
   ],
   "source": [
    "training_data <- left_join(bikedata, station_info[, c('station', 'min_neighbor_dist', 'neighbor_1', \n",
    "                                                      'neighbor_2', 'neighbor_3')],\n",
    "                           by = 'station', all.x = T) \n",
    "\n",
    "str(training_data)"
   ]
  },
  {
   "cell_type": "code",
   "execution_count": null,
   "metadata": {
    "collapsed": false
   },
   "outputs": [],
   "source": [
    "#täs menee joku elämä, vois vähä nopeuttaa looppia\n",
    "#BR, \n",
    "#atk- spesialisti\n",
    "\n",
    "training_data$neighbor_1_cap <- apply(training_data, 1, function(rowlookup) {\n",
    "    \n",
    "    neighbor_1 <- rowlookup[['neighbor_1']]\n",
    "    neighbor_2 <- rowlookup[['neighbor_2']]\n",
    "    neighbor_3 <- rowlookup[['neighbor_3']]\n",
    "    month <- rowlookup[['month']]\n",
    "    dayofmonth <- rowlookup[['dayofmonth']]\n",
    "    dayofweek <- rowlookup[['dayofweek']]\n",
    "    hour <- as.numeric(rowlookup[['hour']]) - 1\n",
    "    \n",
    "    lag_availability_1 <-training_data$avg_availability[training_data$station == neighbor_1 &\n",
    "                                                        training_data$month == month &\n",
    "                                                        training_data$dayofmonth == dayofmonth &\n",
    "                                                        training_data$dayofweek == dayofweek &\n",
    "                                                        training_data$hour == hour]\n",
    "    \n",
    "    return(lag_availability_1)\n",
    "})"
   ]
  },
  {
   "cell_type": "code",
   "execution_count": null,
   "metadata": {
    "collapsed": true
   },
   "outputs": [],
   "source": []
  }
 ],
 "metadata": {
  "anaconda-cloud": {},
  "celltoolbar": "Raw Cell Format",
  "kernelspec": {
   "display_name": "R",
   "language": "R",
   "name": "ir"
  },
  "language_info": {
   "codemirror_mode": "r",
   "file_extension": ".r",
   "mimetype": "text/x-r-source",
   "name": "R",
   "pygments_lexer": "r",
   "version": "3.3.1"
  }
 },
 "nbformat": 4,
 "nbformat_minor": 0
}
